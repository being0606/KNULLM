{
 "cells": [
  {
   "cell_type": "markdown",
   "metadata": {},
   "source": [
    "#### ***requirement : ngrok API token\n",
    "#### ***URL : "
   ]
  },
  {
   "cell_type": "code",
   "execution_count": null,
   "metadata": {},
   "outputs": [],
   "source": [
    "!curl https://ollama.ai/install.sh | sh\n",
    "\n",
    "!echo 'debconf debconf/frontend select Noninteractive' | sudo debconf-set-selections\n",
    "!sudo apt-get update && sudo apt-get install -y cuda-drivers\n",
    "\n",
    "!pip install pyngrok"
   ]
  },
  {
   "cell_type": "code",
   "execution_count": 1,
   "metadata": {},
   "outputs": [],
   "source": [
    "# 1. colab환경에서는 아래의 코드 실행 (이때 scretkey는 따로 설정해야함) ------------------- #\n",
    "# from pyngrok import ngrok                                                     #\n",
    "# from google.colab import userdata                                             #\n",
    "                                                                                #\n",
    "# token=\"토큰을 입력하세요\"                                                          # \n",
    "# token = userdata.get('ngrok_key')                                             #\n",
    "                                                                                #\n",
    "# ngrok.set_auth_token(token)                                                   #\n",
    "# ----------------------------------------------------------------------------- #\n",
    "\n",
    "\n",
    "\n",
    "# 2. local 환경에서는 아래의 코드 실행 (마찬가지로 scretkey는 따로 설정해야함) -------------- #\n",
    "from dotenv import load_dotenv                                                  #\n",
    "import os                                                                       #\n",
    "                                                                                #\n",
    "load_dotenv()                                                                   #\n",
    "token = os.getenv('NGROK_API_KEY')                                              #\n",
    "# ----------------------------------------------------------------------------- #"
   ]
  },
  {
   "cell_type": "code",
   "execution_count": null,
   "metadata": {},
   "outputs": [],
   "source": [
    "import os\n",
    "import asyncio\n",
    "\n",
    "# Set LD_LIBRARY_PATH so the system NVIDIA library\n",
    "os.environ.update({'LD_LIBRARY_PATH': '/usr/lib64-nvidia'})\n",
    "\n",
    "async def run_process(cmd):\n",
    "  print('>>> starting', *cmd)\n",
    "  p = await asyncio.subprocess.create_subprocess_exec(\n",
    "      *cmd,\n",
    "      stdout=asyncio.subprocess.PIPE,\n",
    "      stderr=asyncio.subprocess.PIPE,\n",
    "  )\n",
    "\n",
    "  async def pipe(lines):\n",
    "    async for line in lines:\n",
    "      print(line.strip().decode('utf-8'))\n",
    "\n",
    "  await asyncio.gather(\n",
    "      pipe(p.stdout),\n",
    "      pipe(p.stderr),\n",
    "  )\n",
    "from IPython.display import clear_output\n",
    "clear_output()\n",
    "\n",
    "\n",
    "await asyncio.gather(\n",
    "run_process(['ollama', 'serve']),\n",
    "run_process(['ngrok', 'http', '--log', 'stderr', '11434', '--host-header=\"localhost:11434\"']),\n",
    "run_process(['ollama', 'pull', 'gemma:7b-instruct'])\n",
    ")"
   ]
  }
 ],
 "metadata": {
  "kernelspec": {
   "display_name": "Python 3",
   "language": "python",
   "name": "python3"
  },
  "language_info": {
   "codemirror_mode": {
    "name": "ipython",
    "version": 3
   },
   "file_extension": ".py",
   "mimetype": "text/x-python",
   "name": "python",
   "nbconvert_exporter": "python",
   "pygments_lexer": "ipython3",
   "version": "3.9.6"
  }
 },
 "nbformat": 4,
 "nbformat_minor": 2
}
