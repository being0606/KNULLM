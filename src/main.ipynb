{
 "cells": [
  {
   "cell_type": "code",
   "execution_count": 38,
   "metadata": {},
   "outputs": [],
   "source": [
    "# pip install langchain_community"
   ]
  },
  {
   "cell_type": "code",
   "execution_count": 39,
   "metadata": {},
   "outputs": [],
   "source": [
    "# Ollama 모델 로드 및 테스트\n",
    "from langchain_community.chat_models import ChatOllama\n",
    "\n",
    "from dotenv import load_dotenv\n",
    "import os\n",
    "\n",
    "load_dotenv()\n",
    "SECRET_KEY = os.getenv('COLAB_NGROK_ENDPOINT')"
   ]
  },
  {
   "cell_type": "code",
   "execution_count": 41,
   "metadata": {},
   "outputs": [
    {
     "name": "stdout",
     "output_type": "stream",
     "text": [
      "강원대학교 AI융합학과는 AI 기술을 활용하여 사회 문제 해결 및 새로운 산업 모델을 개발하는 것을 목표로 하는 학과입니다. 이 학과는 강원대학교에서 가장 새로운 학과 중 하나이며, AI 기술의 발전과 산업 환경의 변화에 맞춰 교육 프로그램을 구성하여 학생들에게 최대한 많은 학업 경험을 제공합니다.\n"
     ]
    }
   ],
   "source": [
    "# 랭체인 라이브러리를 사용하여 Ollam 모델을 로드하고, API 엔드포인트를 설정\n",
    "model = ChatOllama(model=\"gemma:7b-instruct\", temperature=0,\n",
    "                   base_url=SECRET_KEY)\n",
    "\n",
    "input_text = input(\"한국어로 입력해주세요. 답변시간은 길이에 따라 다를 수 있습니다. : \")\n",
    "response = model.invoke(input_text + \"이때, 간략히 소개해줘\")\n",
    "print(response.content)"
   ]
  }
 ],
 "metadata": {
  "kernelspec": {
   "display_name": "Python 3",
   "language": "python",
   "name": "python3"
  },
  "language_info": {
   "codemirror_mode": {
    "name": "ipython",
    "version": 3
   },
   "file_extension": ".py",
   "mimetype": "text/x-python",
   "name": "python",
   "nbconvert_exporter": "python",
   "pygments_lexer": "ipython3",
   "version": "3.9.6"
  }
 },
 "nbformat": 4,
 "nbformat_minor": 2
}
